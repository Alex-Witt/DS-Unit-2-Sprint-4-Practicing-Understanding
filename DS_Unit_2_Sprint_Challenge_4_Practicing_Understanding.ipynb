{
 "cells": [
  {
   "cell_type": "markdown",
   "metadata": {},
   "source": [
    "_Lambda School Data Science Unit 2_\n",
    " \n",
    " # Sprint Challenge: Practicing & Understanding Predictive Modeling"
   ]
  },
  {
   "cell_type": "markdown",
   "metadata": {},
   "source": [
    "### Chicago Food Inspections\n",
    "\n",
    "For this Sprint Challenge, you'll use a dataset with information from inspections of restaurants and other food establishments in Chicago from January 2010 to March 2019. \n",
    "\n",
    "[See this PDF](https://data.cityofchicago.org/api/assets/BAD5301B-681A-4202-9D25-51B2CAE672FF) for descriptions of the data elements included in this dataset.\n",
    "\n",
    "According to [Chicago Department of Public Health — Food Protection Services](https://www.chicago.gov/city/en/depts/cdph/provdrs/healthy_restaurants/svcs/food-protection-services.html), \"Chicago is home to 16,000 food establishments like restaurants, grocery stores, bakeries, wholesalers, lunchrooms, mobile food vendors and more. Our business is food safety and sanitation with one goal, to prevent the spread of food-borne disease. We do this by inspecting food businesses, responding to complaints and food recalls.\" "
   ]
  },
  {
   "cell_type": "markdown",
   "metadata": {},
   "source": [
    "#### Your challenge: Predict whether inspections failed\n",
    "\n",
    "The target is the `Fail` column.\n",
    "\n",
    "- When the food establishment failed the inspection, the target is `1`.\n",
    "- When the establishment passed, the target is `0`."
   ]
  },
  {
   "cell_type": "markdown",
   "metadata": {},
   "source": [
    "#### Run this cell to load the data:"
   ]
  },
  {
   "cell_type": "code",
   "execution_count": 271,
   "metadata": {},
   "outputs": [],
   "source": [
    "import pandas as pd\n",
    "\n",
    "train_url = 'https://drive.google.com/uc?export=download&id=13_tP9JpLcZHSPVpWcua4t2rY44K_s4H5'\n",
    "test_url  = 'https://drive.google.com/uc?export=download&id=1GkDHjsiGrzOXoF_xcYjdzBTSjOIi3g5a'\n",
    "\n",
    "train_data = pd.read_csv(train_url)\n",
    "test_data  = pd.read_csv(test_url)\n",
    "\n",
    "assert train_data.shape == (51916, 17)\n",
    "assert test_data.shape  == (17306, 17)"
   ]
  },
  {
   "cell_type": "code",
   "execution_count": 272,
   "metadata": {},
   "outputs": [],
   "source": [
    "train = train_data.copy()\n",
    "test = test_data.copy()"
   ]
  },
  {
   "cell_type": "markdown",
   "metadata": {},
   "source": [
    "### Part 1: Preprocessing\n",
    "\n",
    "You may choose which features you want to use, and whether/how you will preprocess them. If you use categorical features, you may use any tools and techniques for encoding. (Pandas, category_encoders, sklearn.preprocessing, or any other library.)\n",
    "\n",
    "_To earn a score of 3 for this part, find and explain leakage. The dataset has a feature that will give you an ROC AUC score > 0.90 if you process and use the feature. Find the leakage and explain why the feature shouldn't be used in a real-world model to predict the results of future inspections._"
   ]
  },
  {
   "cell_type": "markdown",
   "metadata": {},
   "source": [
    "#### Leaky Feature\n",
    "\n",
    "The leaky feature is engineered correctly would be **Violations**. As per the feature information: \n",
    "\n",
    "> _Violations: An establishment can receive one or more of 45 distinct violations (violation\n",
    "numbers 1-44 and 70). For each violation number listed for a given establishment, the\n",
    "requirement the establishment must meet in order for it to NOT receive a violation is\n",
    "noted, followed by a specific description of the findings that caused the violation to be\n",
    "issued...   \n",
    "An inspection can pass, pass with conditions or fail. Establishments receiving a\n",
    "‘pass’ were found to have no critical or serious violations (violation number 1-14 and 15-\n",
    "29, respectively)._\n",
    "\n",
    "Based on that, if I were to engineer this feature to pass a boolean on whether or not the Violations feature contained any critical or serious violations it would give away whether or not the establishment failed. \n",
    "\n",
    "Below you will note that I opt not to do that. Instead I engineer a feature based on **number of violations**"
   ]
  },
  {
   "cell_type": "code",
   "execution_count": 273,
   "metadata": {},
   "outputs": [],
   "source": [
    "import category_encoders as ce\n",
    "\n",
    "import numpy as np\n",
    "import pandas as pd\n",
    "import matplotlib.pyplot as plt"
   ]
  },
  {
   "cell_type": "code",
   "execution_count": 274,
   "metadata": {},
   "outputs": [],
   "source": [
    "def wrangle(X):\n",
    "    X = X.copy()\n",
    "    \n",
    "    X['Violations'] = X['Violations'].fillna('0')\n",
    "    \n",
    "    # Violations is a bunch of information in a string. I want the number of violations that occurred at a location.\n",
    "    # This list comporehension finds that based on the number of | dividing the violations. \n",
    "    # Null values are treated as instances where no violations were recorded. \n",
    "    \n",
    "    count = []\n",
    "    for i in np.arange(len(X)):\n",
    "        if X['Violations'].iloc[i] == '0':\n",
    "            count.append(0)\n",
    "        elif X['Violations'].iloc[i].count('|') > 0:\n",
    "            count.append(X['Violations'].iloc[i].count('|')+2)\n",
    "        else:\n",
    "            count.append(1)\n",
    "        \n",
    "    X['Violation Count'] = count\n",
    "    \n",
    "        #  There are a lot of a noisy columns in the dataframe.        \n",
    "    X = X.drop(columns = ['AKA Name','Address','State','Latitude','Longitude','Location','Violations'])\n",
    "    \n",
    "    X = X.dropna()\n",
    "    \n",
    "    encoder = ce.OrdinalEncoder()\n",
    "    X = encoder.fit_transform(X)\n",
    "    \n",
    "    return X\n",
    "    "
   ]
  },
  {
   "cell_type": "code",
   "execution_count": 275,
   "metadata": {},
   "outputs": [],
   "source": [
    "train = wrangle(train)\n",
    "test = wrangle(test)"
   ]
  },
  {
   "cell_type": "code",
   "execution_count": 276,
   "metadata": {},
   "outputs": [],
   "source": [
    "X_train = train.drop(columns = 'Fail')\n",
    "y_train = train['Fail']\n",
    "\n",
    "X_test  = test.drop(columns = 'Fail')\n",
    "y_test  = test['Fail']"
   ]
  },
  {
   "cell_type": "markdown",
   "metadata": {},
   "source": [
    "### Part 2: Modeling\n",
    "\n",
    "**Fit a model** with the train set. (You may use scikit-learn, xgboost, or any other library.) **Use cross-validation** to **do hyperparameter optimization**, and **estimate your ROC AUC** validation score.\n",
    "\n",
    "Use your model to **predict probabilities** for the test set. **Get an ROC AUC test score >= 0.60.**\n",
    "\n",
    "_To earn a score of 3 for this part, get an ROC AUC test score >= 0.70 (without using the feature with leakage)._"
   ]
  },
  {
   "cell_type": "code",
   "execution_count": 277,
   "metadata": {},
   "outputs": [
    {
     "name": "stdout",
     "output_type": "stream",
     "text": [
      "Fitting 3 folds for each of 10 candidates, totalling 30 fits\n"
     ]
    },
    {
     "name": "stderr",
     "output_type": "stream",
     "text": [
      "[Parallel(n_jobs=-1)]: Using backend LokyBackend with 8 concurrent workers.\n",
      "[Parallel(n_jobs=-1)]: Done   2 tasks      | elapsed:    4.7s\n",
      "[Parallel(n_jobs=-1)]: Done   9 tasks      | elapsed:    9.1s\n",
      "[Parallel(n_jobs=-1)]: Done  19 out of  30 | elapsed:   18.7s remaining:   10.8s\n",
      "[Parallel(n_jobs=-1)]: Done  23 out of  30 | elapsed:   20.7s remaining:    6.3s\n",
      "[Parallel(n_jobs=-1)]: Done  27 out of  30 | elapsed:   25.8s remaining:    2.9s\n",
      "[Parallel(n_jobs=-1)]: Done  30 out of  30 | elapsed:   26.5s finished\n"
     ]
    },
    {
     "data": {
      "text/plain": [
       "RandomizedSearchCV(cv=3, error_score='raise-deprecating',\n",
       "          estimator=XGBClassifier(base_score=0.5, booster='gbtree', colsample_bylevel=1,\n",
       "       colsample_bytree=1, gamma=0, learning_rate=0.1, max_delta_step=0,\n",
       "       max_depth=3, min_child_weight=1, missing=None, n_estimators=100,\n",
       "       n_jobs=-1, nthread=None, objective='binary:logistic',\n",
       "       random_state=42, reg_alpha=0, reg_lambda=1, scale_pos_weight=1,\n",
       "       seed=None, silent=True, subsample=1),\n",
       "          fit_params=None, iid='warn', n_iter=10, n_jobs=-1,\n",
       "          param_distributions={'n_estimators': <scipy.stats._distn_infrastructure.rv_frozen object at 0x1a271f1d68>, 'max_depth': <scipy.stats._distn_infrastructure.rv_frozen object at 0x1a2720fe80>},\n",
       "          pre_dispatch='2*n_jobs', random_state=42, refit=True,\n",
       "          return_train_score=True, scoring='roc_auc', verbose=10)"
      ]
     },
     "execution_count": 277,
     "metadata": {},
     "output_type": "execute_result"
    }
   ],
   "source": [
    "# Randomized search to find the optimal hyperparameters. \n",
    "from scipy.stats import randint\n",
    "from sklearn.model_selection import RandomizedSearchCV\n",
    "from xgboost import XGBClassifier\n",
    "\n",
    "param_distributions = {\n",
    "    'n_estimators': randint(50, 500), \n",
    "    'max_depth': randint(1,5)\n",
    "}\n",
    "\n",
    "search = RandomizedSearchCV(\n",
    "    estimator = XGBClassifier(n_jobs = -1, random_state = 42),\n",
    "    param_distributions = param_distributions, \n",
    "    scoring = 'roc_auc',\n",
    "    n_iter = 10,\n",
    "    n_jobs = -1,\n",
    "    cv= 3,\n",
    "    verbose = 10,\n",
    "    return_train_score = True,\n",
    "    random_state = 42\n",
    ")\n",
    "\n",
    "search.fit(X_train, y_train)"
   ]
  },
  {
   "cell_type": "code",
   "execution_count": 278,
   "metadata": {},
   "outputs": [
    {
     "data": {
      "text/plain": [
       "0.8586959284487863"
      ]
     },
     "execution_count": 278,
     "metadata": {},
     "output_type": "execute_result"
    }
   ],
   "source": [
    "# creating variable name for the best_estimator object. \n",
    "best = search.best_estimator_\n",
    "# Best ROC AUC Score\n",
    "search.best_score_"
   ]
  },
  {
   "cell_type": "markdown",
   "metadata": {},
   "source": [
    "### Part 3: Visualization\n",
    "\n",
    "Make one visualization for model interpretation. (You may use any libraries.) Choose one of these types:\n",
    "\n",
    "- Feature Importances\n",
    "- Permutation Importances\n",
    "- Partial Dependence Plot\n",
    "- Shapley Values\n",
    "\n",
    "_To earn a score of 3 for this part, make at least two of these visualization types._"
   ]
  },
  {
   "cell_type": "code",
   "execution_count": 279,
   "metadata": {},
   "outputs": [
    {
     "data": {
      "image/png": "[encoded data removed]",
      "text/plain": [
       "<Figure size 360x720 with 1 Axes>"
      ]
     },
     "metadata": {
      "needs_background": "light"
     },
     "output_type": "display_data"
    }
   ],
   "source": [
    "# Let's look at feature importances!\n",
    "\n",
    "figsize = (5, 10)\n",
    "importances = pd.Series(best.feature_importances_, X_train.columns)\n",
    "importances.sort_values().plot.barh(color = 'gray', figsize = figsize);"
   ]
  },
  {
   "cell_type": "code",
   "execution_count": 280,
   "metadata": {},
   "outputs": [
    {
     "data": {
      "text/html": [
       "\n",
       "    <style>\n",
       "    table.eli5-weights tr:hover {\n",
       "        filter: brightness(85%);\n",
       "    }\n",
       "</style>\n",
       "\n",
       "\n",
       "\n",
       "    \n",
       "\n",
       "    \n",
       "\n",
       "    \n",
       "\n",
       "    \n",
       "\n",
       "    \n",
       "\n",
       "    \n",
       "\n",
       "\n",
       "    \n",
       "\n",
       "    \n",
       "\n",
       "    \n",
       "\n",
       "    \n",
       "\n",
       "    \n",
       "\n",
       "    \n",
       "\n",
       "\n",
       "    \n",
       "\n",
       "    \n",
       "\n",
       "    \n",
       "\n",
       "    \n",
       "\n",
       "    \n",
       "        <table class=\"eli5-weights eli5-feature-importances\" style=\"border-collapse: collapse; border: none; margin-top: 0em; table-layout: auto;\">\n",
       "    <thead>\n",
       "    <tr style=\"border: none;\">\n",
       "        <th style=\"padding: 0 1em 0 0.5em; text-align: right; border: none;\">Weight</th>\n",
       "        <th style=\"padding: 0 0.5em 0 0.5em; text-align: left; border: none;\">Feature</th>\n",
       "    </tr>\n",
       "    </thead>\n",
       "    <tbody>\n",
       "    \n",
       "        <tr style=\"background-color: hsl(120, 100.00%, 80.00%); border: none;\">\n",
       "            <td style=\"padding: 0 1em 0 0.5em; text-align: right; border: none;\">\n",
       "                0.2774\n",
       "                \n",
       "                    &plusmn; 0.0015\n",
       "                \n",
       "            </td>\n",
       "            <td style=\"padding: 0 0.5em 0 0.5em; text-align: left; border: none;\">\n",
       "                Violation Count\n",
       "            </td>\n",
       "        </tr>\n",
       "    \n",
       "        <tr style=\"background-color: hsl(120, 100.00%, 95.22%); border: none;\">\n",
       "            <td style=\"padding: 0 1em 0 0.5em; text-align: right; border: none;\">\n",
       "                0.0359\n",
       "                \n",
       "                    &plusmn; 0.0037\n",
       "                \n",
       "            </td>\n",
       "            <td style=\"padding: 0 0.5em 0 0.5em; text-align: left; border: none;\">\n",
       "                Inspection Type\n",
       "            </td>\n",
       "        </tr>\n",
       "    \n",
       "        <tr style=\"background-color: hsl(120, 100.00%, 95.96%); border: none;\">\n",
       "            <td style=\"padding: 0 1em 0 0.5em; text-align: right; border: none;\">\n",
       "                0.0282\n",
       "                \n",
       "                    &plusmn; 0.0033\n",
       "                \n",
       "            </td>\n",
       "            <td style=\"padding: 0 0.5em 0 0.5em; text-align: left; border: none;\">\n",
       "                Inspection ID\n",
       "            </td>\n",
       "        </tr>\n",
       "    \n",
       "        <tr style=\"background-color: hsl(120, 100.00%, 97.31%); border: none;\">\n",
       "            <td style=\"padding: 0 1em 0 0.5em; text-align: right; border: none;\">\n",
       "                0.0158\n",
       "                \n",
       "                    &plusmn; 0.0011\n",
       "                \n",
       "            </td>\n",
       "            <td style=\"padding: 0 0.5em 0 0.5em; text-align: left; border: none;\">\n",
       "                License #\n",
       "            </td>\n",
       "        </tr>\n",
       "    \n",
       "        <tr style=\"background-color: hsl(120, 100.00%, 99.29%); border: none;\">\n",
       "            <td style=\"padding: 0 1em 0 0.5em; text-align: right; border: none;\">\n",
       "                0.0023\n",
       "                \n",
       "                    &plusmn; 0.0005\n",
       "                \n",
       "            </td>\n",
       "            <td style=\"padding: 0 0.5em 0 0.5em; text-align: left; border: none;\">\n",
       "                Zip\n",
       "            </td>\n",
       "        </tr>\n",
       "    \n",
       "        <tr style=\"background-color: hsl(120, 100.00%, 99.43%); border: none;\">\n",
       "            <td style=\"padding: 0 1em 0 0.5em; text-align: right; border: none;\">\n",
       "                0.0017\n",
       "                \n",
       "                    &plusmn; 0.0005\n",
       "                \n",
       "            </td>\n",
       "            <td style=\"padding: 0 0.5em 0 0.5em; text-align: left; border: none;\">\n",
       "                Facility Type\n",
       "            </td>\n",
       "        </tr>\n",
       "    \n",
       "        <tr style=\"background-color: hsl(120, 100.00%, 99.93%); border: none;\">\n",
       "            <td style=\"padding: 0 1em 0 0.5em; text-align: right; border: none;\">\n",
       "                0.0001\n",
       "                \n",
       "                    &plusmn; 0.0005\n",
       "                \n",
       "            </td>\n",
       "            <td style=\"padding: 0 0.5em 0 0.5em; text-align: left; border: none;\">\n",
       "                DBA Name\n",
       "            </td>\n",
       "        </tr>\n",
       "    \n",
       "        <tr style=\"background-color: hsl(120, 100.00%, 99.96%); border: none;\">\n",
       "            <td style=\"padding: 0 1em 0 0.5em; text-align: right; border: none;\">\n",
       "                0.0000\n",
       "                \n",
       "                    &plusmn; 0.0003\n",
       "                \n",
       "            </td>\n",
       "            <td style=\"padding: 0 0.5em 0 0.5em; text-align: left; border: none;\">\n",
       "                Inspection Date\n",
       "            </td>\n",
       "        </tr>\n",
       "    \n",
       "        <tr style=\"background-color: hsl(0, 100.00%, 99.98%); border: none;\">\n",
       "            <td style=\"padding: 0 1em 0 0.5em; text-align: right; border: none;\">\n",
       "                -0.0000\n",
       "                \n",
       "                    &plusmn; 0.0000\n",
       "                \n",
       "            </td>\n",
       "            <td style=\"padding: 0 0.5em 0 0.5em; text-align: left; border: none;\">\n",
       "                City\n",
       "            </td>\n",
       "        </tr>\n",
       "    \n",
       "        <tr style=\"background-color: hsl(0, 100.00%, 98.69%); border: none;\">\n",
       "            <td style=\"padding: 0 1em 0 0.5em; text-align: right; border: none;\">\n",
       "                -0.0057\n",
       "                \n",
       "                    &plusmn; 0.0012\n",
       "                \n",
       "            </td>\n",
       "            <td style=\"padding: 0 0.5em 0 0.5em; text-align: left; border: none;\">\n",
       "                Risk\n",
       "            </td>\n",
       "        </tr>\n",
       "    \n",
       "    \n",
       "    </tbody>\n",
       "</table>\n",
       "    \n",
       "\n",
       "    \n",
       "\n",
       "\n",
       "    \n",
       "\n",
       "    \n",
       "\n",
       "    \n",
       "\n",
       "    \n",
       "\n",
       "    \n",
       "\n",
       "    \n",
       "\n",
       "\n",
       "\n"
      ],
      "text/plain": [
       "<IPython.core.display.HTML object>"
      ]
     },
     "execution_count": 280,
     "metadata": {},
     "output_type": "execute_result"
    }
   ],
   "source": [
    "# Lets Cross Reference that with the Permutation Importance. \n",
    "\n",
    "import eli5\n",
    "from eli5.sklearn import PermutationImportance\n",
    "\n",
    "# In its current form, eli5 doesn't work with pandas and XGBoost. It needs to be an array. \n",
    "## Likely because it renames the columns to some hardcoded value. \n",
    "### https://www.kaggle.com/dansbecker/permutation-importance#392299\n",
    "X_train_dbg = X_train.values\n",
    "y_train_dbg = y_train.values\n",
    "X_test_dbg = X_test.values\n",
    "y_test_dbg = y_test.values\n",
    "\n",
    "# The model also needs to fit with the nd.array data type\n",
    "best.fit(X_train_dbg, y_train_dbg)\n",
    "\n",
    "permuter = PermutationImportance(best, scoring = 'roc_auc',\n",
    "                                 n_iter = 4, random_state = 42)\n",
    "\n",
    "permuter.fit(X_test_dbg, y_test_dbg)\n",
    "\n",
    "feature_names = X_test.columns.tolist()\n",
    "eli5.show_weights(permuter, top = None, feature_names = feature_names)"
   ]
  },
  {
   "cell_type": "code",
   "execution_count": 282,
   "metadata": {},
   "outputs": [
    {
     "name": "stdout",
     "output_type": "stream",
     "text": [
      "ROC AUC vs. Test:  0.7091937041316374\n"
     ]
    }
   ],
   "source": [
    "from sklearn.metrics import roc_auc_score\n",
    "best.fit(X_train, y_train)\n",
    "y_pred = best.predict(X_test)\n",
    "\n",
    "print('ROC AUC vs. Test: ', roc_auc_score(y_test, y_pred))"
   ]
  },
  {
   "cell_type": "markdown",
   "metadata": {},
   "source": [
    "### Part 4: Gradient Descent\n",
    "\n",
    "Answer both of these two questions:\n",
    "\n",
    "- What does Gradient Descent seek to minimize?\n",
    "- What is the \"Learning Rate\" and what is its function?\n",
    "\n",
    "One sentence is sufficient for each.\n",
    "\n",
    "_To earn a score of 3 for this part, go above and beyond. Show depth of understanding and mastery of intuition in your answers._"
   ]
  },
  {
   "cell_type": "markdown",
   "metadata": {},
   "source": [
    "Gradient descent is attempting to minimize the **cost** or **error** a predicition model. It attempts to iteratively decrease the error of the prediction until reaching a local minimum on the cost function. It does so by taking the partial derivative of the cost function and attempting to find the point where the derivative (or slope) is 0. "
   ]
  },
  {
   "cell_type": "markdown",
   "metadata": {},
   "source": [
    "The \"Learning Rate\" or \"Alpha\" is the size of the \"step\" taking in each iteration when trying to find the minimum of the cost function. A larger learning rate will work faster, but can overshoot. A smaller learning rate can be more precise, but takes more iterations to find the minimum. "
   ]
  }
 ],
 "metadata": {
  "kernelspec": {
   "display_name": "Python 3",
   "language": "python",
   "name": "python3"
  },
  "language_info": {
   "codemirror_mode": {
    "name": "ipython",
    "version": 3
   },
   "file_extension": ".py",
   "mimetype": "text/x-python",
   "name": "python",
   "nbconvert_exporter": "python",
   "pygments_lexer": "ipython3",
   "version": "3.7.1"
  }
 },
 "nbformat": 4,
 "nbformat_minor": 2
}
