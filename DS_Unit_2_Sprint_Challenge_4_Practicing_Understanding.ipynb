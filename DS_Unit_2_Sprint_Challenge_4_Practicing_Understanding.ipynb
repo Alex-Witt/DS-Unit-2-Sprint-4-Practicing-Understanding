{
 "cells": [
  {
   "cell_type": "markdown",
   "metadata": {},
   "source": [
    "_Lambda School Data Science Unit 2_\n",
    " \n",
    " # Sprint Challenge: Practicing & Understanding Predictive Modeling"
   ]
  },
  {
   "cell_type": "markdown",
   "metadata": {},
   "source": [
    "### Chicago Food Inspections\n",
    "\n",
    "For this Sprint Challenge, you'll use a dataset with information from inspections of restaurants and other food establishments in Chicago from January 2010 to March 2019. \n",
    "\n",
    "[See this PDF](https://data.cityofchicago.org/api/assets/BAD5301B-681A-4202-9D25-51B2CAE672FF) for descriptions of the data elements included in this dataset.\n",
    "\n",
    "According to [Chicago Department of Public Health — Food Protection Services](https://www.chicago.gov/city/en/depts/cdph/provdrs/healthy_restaurants/svcs/food-protection-services.html), \"Chicago is home to 16,000 food establishments like restaurants, grocery stores, bakeries, wholesalers, lunchrooms, mobile food vendors and more. Our business is food safety and sanitation with one goal, to prevent the spread of food-borne disease. We do this by inspecting food businesses, responding to complaints and food recalls.\" "
   ]
  },
  {
   "cell_type": "markdown",
   "metadata": {},
   "source": [
    "#### Your challenge: Predict whether inspections failed\n",
    "\n",
    "The target is the `Fail` column.\n",
    "\n",
    "- When the food establishment failed the inspection, the target is `1`.\n",
    "- When the establishment passed, the target is `0`."
   ]
  },
  {
   "cell_type": "markdown",
   "metadata": {},
   "source": [
    "#### Run this cell to load the data:"
   ]
  },
  {
   "cell_type": "code",
   "execution_count": 119,
   "metadata": {},
   "outputs": [],
   "source": [
    "import pandas as pd\n",
    "\n",
    "train_url = 'https://drive.google.com/uc?export=download&id=13_tP9JpLcZHSPVpWcua4t2rY44K_s4H5'\n",
    "test_url  = 'https://drive.google.com/uc?export=download&id=1GkDHjsiGrzOXoF_xcYjdzBTSjOIi3g5a'\n",
    "\n",
    "train_data = pd.read_csv(train_url)\n",
    "test_data  = pd.read_csv(test_url)\n",
    "\n",
    "assert train.shape == (51916, 17)\n",
    "assert test.shape  == (17306, 17)"
   ]
  },
  {
   "cell_type": "code",
   "execution_count": 184,
   "metadata": {},
   "outputs": [],
   "source": [
    "train = train_data.copy()\n",
    "test = test_data.copy()"
   ]
  },
  {
   "cell_type": "markdown",
   "metadata": {},
   "source": [
    "### Part 1: Preprocessing\n",
    "\n",
    "You may choose which features you want to use, and whether/how you will preprocess them. If you use categorical features, you may use any tools and techniques for encoding. (Pandas, category_encoders, sklearn.preprocessing, or any other library.)\n",
    "\n",
    "_To earn a score of 3 for this part, find and explain leakage. The dataset has a feature that will give you an ROC AUC score > 0.90 if you process and use the feature. Find the leakage and explain why the feature shouldn't be used in a real-world model to predict the results of future inspections._"
   ]
  },
  {
   "cell_type": "markdown",
   "metadata": {},
   "source": [
    "Before I begin, I predict that Inspection ID is a leaky feature. There are exactly 51916 unique inspection ID's in in the training dataset. Therefore it should not be showing this much weight in the cross-validation of the model. "
   ]
  },
  {
   "cell_type": "code",
   "execution_count": 185,
   "metadata": {},
   "outputs": [],
   "source": [
    "import category_encoders as ce\n",
    "\n",
    "import numpy as np\n",
    "import pandas as pd\n",
    "import matplotlib.pyplot as plt"
   ]
  },
  {
   "cell_type": "code",
   "execution_count": 186,
   "metadata": {},
   "outputs": [],
   "source": [
    "def wrangle(X):\n",
    "    X = X.copy()\n",
    "    \n",
    "    X['Violations'] = X['Violations'].fillna('0')\n",
    "    \n",
    "    # Violations is a bunch of information in a string. I want the number of violations that occurred at a location.\n",
    "    # This list comporehension finds that based on the number of | dividing the violations. \n",
    "    # Null values are treated as instances where no violations were recorded. \n",
    "    \n",
    "    count = []\n",
    "    for i in np.arange(len(X)):\n",
    "        if X['Violations'].iloc[i] == '0':\n",
    "            count.append(0)\n",
    "        elif X['Violations'].iloc[i].count('|') > 0:\n",
    "            count.append(X['Violations'].iloc[i].count('|')+2)\n",
    "        else:\n",
    "            count.append(1)\n",
    "        \n",
    "    X['Violation Count'] = count\n",
    "    \n",
    "        #  There are a lot of a noisy columns in the dataframe.        \n",
    "    #X = X.drop(columns = ['Inspection ID','DBA Name','AKA Name','License #','Address','State','Latitude','Longitude','Location','Violations'])\n",
    "    \n",
    "    X = X.drop(columns = ['Violation Count'])\n",
    "    X = X.dropna()\n",
    "    \n",
    "    \n",
    "    encoder = ce.OrdinalEncoder()\n",
    "    X = encoder.fit_transform(X)\n",
    "    \n",
    "    return X\n",
    "    "
   ]
  },
  {
   "cell_type": "code",
   "execution_count": 187,
   "metadata": {},
   "outputs": [],
   "source": [
    "train = wrangle(train)\n",
    "test = wrangle(test)"
   ]
  },
  {
   "cell_type": "code",
   "execution_count": 188,
   "metadata": {},
   "outputs": [],
   "source": [
    "X_train = train.drop(columns = 'Fail')\n",
    "y_train = train['Fail']\n",
    "\n",
    "X_test  = test.drop(columns = 'Fail')\n",
    "y_test  = test['Fail']"
   ]
  },
  {
   "cell_type": "code",
   "execution_count": 189,
   "metadata": {},
   "outputs": [
    {
     "data": {
      "text/plain": [
       "Inspection ID      0\n",
       "DBA Name           0\n",
       "AKA Name           0\n",
       "License #          0\n",
       "Facility Type      0\n",
       "Risk               0\n",
       "Address            0\n",
       "City               0\n",
       "State              0\n",
       "Zip                0\n",
       "Inspection Date    0\n",
       "Inspection Type    0\n",
       "Violations         0\n",
       "Latitude           0\n",
       "Longitude          0\n",
       "Location           0\n",
       "dtype: int64"
      ]
     },
     "execution_count": 189,
     "metadata": {},
     "output_type": "execute_result"
    }
   ],
   "source": [
    "X_train.isnull().sum()"
   ]
  },
  {
   "cell_type": "markdown",
   "metadata": {},
   "source": [
    "### Part 2: Modeling\n",
    "\n",
    "**Fit a model** with the train set. (You may use scikit-learn, xgboost, or any other library.) **Use cross-validation** to **do hyperparameter optimization**, and **estimate your ROC AUC** validation score.\n",
    "\n",
    "Use your model to **predict probabilities** for the test set. **Get an ROC AUC test score >= 0.60.**\n",
    "\n",
    "_To earn a score of 3 for this part, get an ROC AUC test score >= 0.70 (without using the feature with leakage)._"
   ]
  },
  {
   "cell_type": "code",
   "execution_count": null,
   "metadata": {},
   "outputs": [
    {
     "name": "stdout",
     "output_type": "stream",
     "text": [
      "Fitting 3 folds for each of 10 candidates, totalling 30 fits\n"
     ]
    },
    {
     "name": "stderr",
     "output_type": "stream",
     "text": [
      "[Parallel(n_jobs=-1)]: Using backend LokyBackend with 8 concurrent workers.\n",
      "[Parallel(n_jobs=-1)]: Done   2 tasks      | elapsed:   10.0s\n",
      "[Parallel(n_jobs=-1)]: Done   9 tasks      | elapsed:   17.8s\n",
      "[Parallel(n_jobs=-1)]: Done  19 out of  30 | elapsed:   35.4s remaining:   20.5s\n",
      "[Parallel(n_jobs=-1)]: Done  23 out of  30 | elapsed:   38.8s remaining:   11.8s\n",
      "[Parallel(n_jobs=-1)]: Done  27 out of  30 | elapsed:   47.5s remaining:    5.3s\n",
      "[Parallel(n_jobs=-1)]: Done  30 out of  30 | elapsed:   48.6s finished\n"
     ]
    }
   ],
   "source": [
    "# Randomized search to find the optimal hyperparameters. \n",
    "from scipy.stats import randint\n",
    "from sklearn.model_selection import RandomizedSearchCV\n",
    "from xgboost import XGBClassifier\n",
    "\n",
    "param_distributions = {\n",
    "    'n_estimators': randint(50, 500), \n",
    "    'max_depth': randint(1,5)\n",
    "}\n",
    "\n",
    "search = RandomizedSearchCV(\n",
    "    estimator = XGBClassifier(n_jobs = -1, random_state = 42),\n",
    "    param_distributions = param_distributions, \n",
    "    scoring = 'roc_auc',\n",
    "    n_iter = 10,\n",
    "    n_jobs = -1,\n",
    "    cv= 3,\n",
    "    verbose = 10,\n",
    "    return_train_score = True,\n",
    "    random_state = 42\n",
    ")\n",
    "\n",
    "search.fit(X_train, y_train)"
   ]
  },
  {
   "cell_type": "code",
   "execution_count": null,
   "metadata": {},
   "outputs": [],
   "source": [
    "# creating variable name for the best_estimator object. \n",
    "best = search.best_estimator_\n",
    "# Best ROC AUC Score\n",
    "search.best_score_"
   ]
  },
  {
   "cell_type": "markdown",
   "metadata": {},
   "source": [
    "### Part 3: Visualization\n",
    "\n",
    "Make one visualization for model interpretation. (You may use any libraries.) Choose one of these types:\n",
    "\n",
    "- Feature Importances\n",
    "- Permutation Importances\n",
    "- Partial Dependence Plot\n",
    "- Shapley Values\n",
    "\n",
    "_To earn a score of 3 for this part, make at least two of these visualization types._"
   ]
  },
  {
   "cell_type": "code",
   "execution_count": null,
   "metadata": {},
   "outputs": [],
   "source": [
    "# Let's look at feature importances!\n",
    "\n",
    "figsize = (8, 16)\n",
    "importances = pd.Series(best.feature_importances_, X_train.columns)\n",
    "importances.sort_values().plot.barh(color = 'gray', figsize = figsize);"
   ]
  },
  {
   "cell_type": "code",
   "execution_count": null,
   "metadata": {},
   "outputs": [],
   "source": [
    "# Lets Cross Reference that with the Permutation Importance. \n",
    "\n",
    "import eli5\n",
    "from eli5.sklearn import PermutationImportance\n",
    "\n",
    "# In its current form, eli5 doesn't work with pandas and XGBoost. It needs to be an array. \n",
    "## Likely because it renames the columns to some hardcoded value. \n",
    "### https://www.kaggle.com/dansbecker/permutation-importance#392299\n",
    "X_train_dbg = X_train.values\n",
    "y_train_dbg = y_train.values\n",
    "X_test_dbg = X_test.values\n",
    "y_test_dbg = y_test.values\n",
    "\n",
    "# The model also needs to fit with the nd.array data type\n",
    "best.fit(X_train_dbg, y_train_dbg)\n",
    "\n",
    "permuter = PermutationImportance(best, scoring = 'roc_auc',\n",
    "                                 n_iter = 4, random_state = 42)\n",
    "\n",
    "permuter.fit(X_test_dbg, y_test_dbg)\n",
    "\n",
    "feature_names = X_test.columns.tolist()\n",
    "eli5.show_weights(permuter, top = None, feature_names = feature_names)"
   ]
  },
  {
   "cell_type": "code",
   "execution_count": null,
   "metadata": {},
   "outputs": [],
   "source": [
    "# I want to remove any noisy features. \n",
    "mask = permuter.feature_importances_ > 0\n",
    "features = X_train.columns[mask]\n",
    "\n",
    "\n"
   ]
  },
  {
   "cell_type": "markdown",
   "metadata": {},
   "source": [
    "### Part 4: Gradient Descent\n",
    "\n",
    "Answer both of these two questions:\n",
    "\n",
    "- What does Gradient Descent seek to minimize?\n",
    "- What is the \"Learning Rate\" and what is its function?\n",
    "\n",
    "One sentence is sufficient for each.\n",
    "\n",
    "_To earn a score of 3 for this part, go above and beyond. Show depth of understanding and mastery of intuition in your answers._"
   ]
  },
  {
   "cell_type": "markdown",
   "metadata": {},
   "source": [
    "Gradient descent is attempting to minimize the **cost** or **error** a predicition model. It attempts to iteratively decrease the error of the prediction until reaching a local minimum on the cost function. It does so by taking the partial derivative of the cost function and attempting to find the point where the derivative (or slope) is 0. "
   ]
  },
  {
   "cell_type": "markdown",
   "metadata": {},
   "source": [
    "The \"Learning Rate\" or \"Alpha\" is the size of the \"step\" taking in each iteration when trying to find the minimum of the cost function. A larger learning rate will work faster, but can overshoot. A smaller learning rate can be more precise, but takes more iterations to find the minimum. "
   ]
  },
  {
   "cell_type": "code",
   "execution_count": 134,
   "metadata": {},
   "outputs": [
    {
     "data": {
      "text/html": [
       "<div>\n",
       "<style scoped>\n",
       "    .dataframe tbody tr th:only-of-type {\n",
       "        vertical-align: middle;\n",
       "    }\n",
       "\n",
       "    .dataframe tbody tr th {\n",
       "        vertical-align: top;\n",
       "    }\n",
       "\n",
       "    .dataframe thead th {\n",
       "        text-align: right;\n",
       "    }\n",
       "</style>\n",
       "<table border=\"1\" class=\"dataframe\">\n",
       "  <thead>\n",
       "    <tr style=\"text-align: right;\">\n",
       "      <th></th>\n",
       "      <th>Inspection ID</th>\n",
       "      <th>DBA Name</th>\n",
       "      <th>AKA Name</th>\n",
       "      <th>License #</th>\n",
       "      <th>Facility Type</th>\n",
       "      <th>Risk</th>\n",
       "      <th>Address</th>\n",
       "      <th>City</th>\n",
       "      <th>State</th>\n",
       "      <th>Zip</th>\n",
       "      <th>Inspection Date</th>\n",
       "      <th>Inspection Type</th>\n",
       "      <th>Violations</th>\n",
       "      <th>Latitude</th>\n",
       "      <th>Longitude</th>\n",
       "      <th>Location</th>\n",
       "      <th>Fail</th>\n",
       "    </tr>\n",
       "  </thead>\n",
       "  <tbody>\n",
       "    <tr>\n",
       "      <th>0</th>\n",
       "      <td>2088270</td>\n",
       "      <td>TOM YUM RICE &amp; NOODLE, INC.</td>\n",
       "      <td>TOM YUM CAFE</td>\n",
       "      <td>2354911.0</td>\n",
       "      <td>Restaurant</td>\n",
       "      <td>Risk 1 (High)</td>\n",
       "      <td>608 W BARRY</td>\n",
       "      <td>CHICAGO</td>\n",
       "      <td>IL</td>\n",
       "      <td>60657.0</td>\n",
       "      <td>2017-09-15T00:00:00</td>\n",
       "      <td>Canvass</td>\n",
       "      <td>3. POTENTIALLY HAZARDOUS FOOD MEETS TEMPERATUR...</td>\n",
       "      <td>41.938007</td>\n",
       "      <td>-87.644755</td>\n",
       "      <td>{'longitude': '-87.6447545707008', 'latitude':...</td>\n",
       "      <td>1</td>\n",
       "    </tr>\n",
       "    <tr>\n",
       "      <th>1</th>\n",
       "      <td>555268</td>\n",
       "      <td>FILLING STATION  &amp; CONVENIENCE  STORE</td>\n",
       "      <td>FILLING STATION  &amp; CONVENIENCE  STORE</td>\n",
       "      <td>1044901.0</td>\n",
       "      <td>Grocery Store</td>\n",
       "      <td>Risk 3 (Low)</td>\n",
       "      <td>6646-6658 S WESTERN AVE</td>\n",
       "      <td>CHICAGO</td>\n",
       "      <td>IL</td>\n",
       "      <td>60636.0</td>\n",
       "      <td>2011-10-20T00:00:00</td>\n",
       "      <td>Complaint Re-Inspection</td>\n",
       "      <td>32. FOOD AND NON-FOOD CONTACT SURFACES PROPERL...</td>\n",
       "      <td>41.772402</td>\n",
       "      <td>-87.683603</td>\n",
       "      <td>{'longitude': '-87.68360273081268', 'latitude'...</td>\n",
       "      <td>0</td>\n",
       "    </tr>\n",
       "    <tr>\n",
       "      <th>2</th>\n",
       "      <td>1751394</td>\n",
       "      <td>A P DELI</td>\n",
       "      <td>A P DELI</td>\n",
       "      <td>47405.0</td>\n",
       "      <td>Restaurant</td>\n",
       "      <td>Risk 1 (High)</td>\n",
       "      <td>2025 E 75TH ST</td>\n",
       "      <td>CHICAGO</td>\n",
       "      <td>IL</td>\n",
       "      <td>60649.0</td>\n",
       "      <td>2016-04-05T00:00:00</td>\n",
       "      <td>Canvass Re-Inspection</td>\n",
       "      <td>35. WALLS, CEILINGS, ATTACHED EQUIPMENT CONSTR...</td>\n",
       "      <td>41.758779</td>\n",
       "      <td>-87.575054</td>\n",
       "      <td>{'longitude': '-87.57505446746121', 'latitude'...</td>\n",
       "      <td>0</td>\n",
       "    </tr>\n",
       "    <tr>\n",
       "      <th>3</th>\n",
       "      <td>1763905</td>\n",
       "      <td>FRANK'S CHICAGO SHRIMP HOUSE</td>\n",
       "      <td>FRANK'S CHICAGO SHRIMP HOUSE</td>\n",
       "      <td>6414.0</td>\n",
       "      <td>Restaurant</td>\n",
       "      <td>Risk 2 (Medium)</td>\n",
       "      <td>4459 S ARCHER AVE</td>\n",
       "      <td>CHICAGO</td>\n",
       "      <td>IL</td>\n",
       "      <td>60632.0</td>\n",
       "      <td>2016-04-29T00:00:00</td>\n",
       "      <td>Canvass</td>\n",
       "      <td>38. VENTILATION: ROOMS AND EQUIPMENT VENTED AS...</td>\n",
       "      <td>41.812181</td>\n",
       "      <td>-87.707125</td>\n",
       "      <td>{'longitude': '-87.70712481334274', 'latitude'...</td>\n",
       "      <td>0</td>\n",
       "    </tr>\n",
       "    <tr>\n",
       "      <th>4</th>\n",
       "      <td>453326</td>\n",
       "      <td>MORRILL</td>\n",
       "      <td>MORRILL</td>\n",
       "      <td>24571.0</td>\n",
       "      <td>School</td>\n",
       "      <td>Risk 1 (High)</td>\n",
       "      <td>6011 S Rockwell (2600W) AVE</td>\n",
       "      <td>CHICAGO</td>\n",
       "      <td>IL</td>\n",
       "      <td>60629.0</td>\n",
       "      <td>2011-01-10T00:00:00</td>\n",
       "      <td>Canvass</td>\n",
       "      <td>34. FLOORS: CONSTRUCTED PER CODE, CLEANED, GOO...</td>\n",
       "      <td>NaN</td>\n",
       "      <td>NaN</td>\n",
       "      <td>NaN</td>\n",
       "      <td>0</td>\n",
       "    </tr>\n",
       "  </tbody>\n",
       "</table>\n",
       "</div>"
      ],
      "text/plain": [
       "   Inspection ID                               DBA Name  \\\n",
       "0        2088270            TOM YUM RICE & NOODLE, INC.   \n",
       "1         555268  FILLING STATION  & CONVENIENCE  STORE   \n",
       "2        1751394                               A P DELI   \n",
       "3        1763905           FRANK'S CHICAGO SHRIMP HOUSE   \n",
       "4         453326                                MORRILL   \n",
       "\n",
       "                                AKA Name  License #  Facility Type  \\\n",
       "0                           TOM YUM CAFE  2354911.0     Restaurant   \n",
       "1  FILLING STATION  & CONVENIENCE  STORE  1044901.0  Grocery Store   \n",
       "2                               A P DELI    47405.0     Restaurant   \n",
       "3           FRANK'S CHICAGO SHRIMP HOUSE     6414.0     Restaurant   \n",
       "4                                MORRILL    24571.0         School   \n",
       "\n",
       "              Risk                       Address     City State      Zip  \\\n",
       "0    Risk 1 (High)                  608 W BARRY   CHICAGO    IL  60657.0   \n",
       "1     Risk 3 (Low)      6646-6658 S WESTERN AVE   CHICAGO    IL  60636.0   \n",
       "2    Risk 1 (High)               2025 E 75TH ST   CHICAGO    IL  60649.0   \n",
       "3  Risk 2 (Medium)            4459 S ARCHER AVE   CHICAGO    IL  60632.0   \n",
       "4    Risk 1 (High)  6011 S Rockwell (2600W) AVE   CHICAGO    IL  60629.0   \n",
       "\n",
       "       Inspection Date          Inspection Type  \\\n",
       "0  2017-09-15T00:00:00                  Canvass   \n",
       "1  2011-10-20T00:00:00  Complaint Re-Inspection   \n",
       "2  2016-04-05T00:00:00    Canvass Re-Inspection   \n",
       "3  2016-04-29T00:00:00                  Canvass   \n",
       "4  2011-01-10T00:00:00                  Canvass   \n",
       "\n",
       "                                          Violations   Latitude  Longitude  \\\n",
       "0  3. POTENTIALLY HAZARDOUS FOOD MEETS TEMPERATUR...  41.938007 -87.644755   \n",
       "1  32. FOOD AND NON-FOOD CONTACT SURFACES PROPERL...  41.772402 -87.683603   \n",
       "2  35. WALLS, CEILINGS, ATTACHED EQUIPMENT CONSTR...  41.758779 -87.575054   \n",
       "3  38. VENTILATION: ROOMS AND EQUIPMENT VENTED AS...  41.812181 -87.707125   \n",
       "4  34. FLOORS: CONSTRUCTED PER CODE, CLEANED, GOO...        NaN        NaN   \n",
       "\n",
       "                                            Location  Fail  \n",
       "0  {'longitude': '-87.6447545707008', 'latitude':...     1  \n",
       "1  {'longitude': '-87.68360273081268', 'latitude'...     0  \n",
       "2  {'longitude': '-87.57505446746121', 'latitude'...     0  \n",
       "3  {'longitude': '-87.70712481334274', 'latitude'...     0  \n",
       "4                                                NaN     0  "
      ]
     },
     "execution_count": 134,
     "metadata": {},
     "output_type": "execute_result"
    }
   ],
   "source": [
    "train_data.head()"
   ]
  },
  {
   "cell_type": "code",
   "execution_count": 135,
   "metadata": {},
   "outputs": [
    {
     "data": {
      "text/plain": [
       "array(['Canvass', 'Complaint Re-Inspection', 'Canvass Re-Inspection',\n",
       "       'License Re-Inspection', 'License', 'Complaint',\n",
       "       'Short Form Complaint', 'Special Events (Festivals)',\n",
       "       'Consultation', 'Task Force Liquor 1475', 'Tag Removal',\n",
       "       'Complaint-Fire', 'License-Task Force',\n",
       "       'Suspected Food Poisoning Re-inspection', 'Out of Business',\n",
       "       'Complaint-Fire Re-inspection', 'TASK FORCE LIQUOR 1470',\n",
       "       'Suspected Food Poisoning', 'Recent Inspection', 'NO ENTRY',\n",
       "       'Short Form Fire-Complaint', 'KIDS CAFE', 'No Entry', 'no entry',\n",
       "       'Pre-License Consultation', 'Package Liquor 1474',\n",
       "       'TASK FORCE LIQUOR (1481)', 'Illegal Operation',\n",
       "       'LICENSE RENEWAL FOR DAYCARE', 'CANVASS SPECIAL EVENTS',\n",
       "       'CHANGED COURT DATE', 'TAVERN 1470', 'Non-Inspection',\n",
       "       'TWO PEOPLE ATE AND GOT SICK.', 'Not Ready',\n",
       "       'CLOSE-UP/COMPLAINT REINSPECTION', 'SMOKING COMPLAINT',\n",
       "       'LICENSE WRONG ADDRESS', 'OUT OF BUSINESS',\n",
       "       'CANVASS/SPECIAL EVENT', 'RECALL INSPECTION', nan, 'POSSIBLE FBI',\n",
       "       'License consultation', 'SPECIAL TASK FORCE', 'SFP/Complaint',\n",
       "       'LICENSE DAYCARE 1586', 'license', 'LICENSE REQUEST', 'ADDENDUM',\n",
       "       'SFP/COMPLAINT', 'REINSPECTION OF 48 HOUR NOTICE'], dtype=object)"
      ]
     },
     "execution_count": 135,
     "metadata": {},
     "output_type": "execute_result"
    }
   ],
   "source": [
    "train_data['Inspection Type'].unique()"
   ]
  },
  {
   "cell_type": "code",
   "execution_count": 133,
   "metadata": {},
   "outputs": [
    {
     "data": {
      "text/plain": [
       "(51916, 17)"
      ]
     },
     "execution_count": 133,
     "metadata": {},
     "output_type": "execute_result"
    }
   ],
   "source": [
    "train_data.shape"
   ]
  },
  {
   "cell_type": "code",
   "execution_count": null,
   "metadata": {},
   "outputs": [],
   "source": []
  }
 ],
 "metadata": {
  "kernelspec": {
   "display_name": "Python 3",
   "language": "python",
   "name": "python3"
  },
  "language_info": {
   "codemirror_mode": {
    "name": "ipython",
    "version": 3
   },
   "file_extension": ".py",
   "mimetype": "text/x-python",
   "name": "python",
   "nbconvert_exporter": "python",
   "pygments_lexer": "ipython3",
   "version": "3.7.1"
  }
 },
 "nbformat": 4,
 "nbformat_minor": 2
}
